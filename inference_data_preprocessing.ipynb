{
 "cells": [
  {
   "cell_type": "code",
   "execution_count": null,
   "metadata": {},
   "outputs": [],
   "source": [
    "import requests\n",
    "import hashlib\n",
    "import base64\n",
    "import time\n",
    "\n",
    "def make_signature(ncloud_access_key, ncloud_secret_key, timestamp, endpoint, method):\n",
    "    message = method + \" \" + endpoint + \"\\n\" + timestamp + \"\\n\" + ncloud_access_key\n",
    "    signature = base64.b64encode(hashlib.sha256(message.encode('utf-8')).digest()).decode('utf-8')\n",
    "    return signature\n",
    "\n",
    "def generate2(mode):\n",
    "    ncloud_access_key = 'your_access_key'\n",
    "    ncloud_secret_key = 'your_secret_key'\n",
    "    timestamp = str(int(time.time() * 1000))\n",
    "    url = \"https://clovastudio.apigw.ntruss.com\"\n",
    "    endpoint = \"\"\n",
    "    method = \"\"\n",
    "\n",
    "    if mode == 1:\n",
    "        endpoint = \"/tuning/v2/tasks\" \n",
    "        method = \"POST\"\n",
    "    elif mode == 2:\n",
    "        endpoint = \"/tuning/v2/tasks\" \n",
    "        method = \"GET\"\n",
    "\n",
    "    if not ncloud_access_key:\n",
    "        print(\"NCLOUD_ACCESS_KEY 값을 입력하세요.\")\n",
    "        return\n",
    "\n",
    "    if not ncloud_secret_key:\n",
    "        print(\"NCLOUD_SECRET_KEY 값을 입력하세요.\")\n",
    "        return\n",
    "\n",
    "    message = make_signature(ncloud_access_key, ncloud_secret_key, timestamp, endpoint, method)\n",
    "    request_url = \"[{}] {}\".format(method, url+endpoint)\n",
    "    return request_url, timestamp,ncloud_access_key, message\n",
    "\n",
    "while True:\n",
    "    generate2(2)\n",
    "    time.sleep(300)\n",
    "\n",
    "#timestamp, ncloud_access_key, message 를 3개를 받아서 5분마다 generate2(2)를 호출하는 코드이고 그 값들을 아래 데이터 셋 생성코드에 적용하면 됩니다.\n",
    "    "
   ]
  },
  {
   "cell_type": "code",
   "execution_count": null,
   "metadata": {},
   "outputs": [],
   "source": [
    "total = generate2(2)"
   ]
  },
  {
   "cell_type": "code",
   "execution_count": 50,
   "metadata": {},
   "outputs": [],
   "source": [
    "import json\n",
    "\n",
    "class CompletionExecutor:\n",
    "    def __init__(self, host, api_key, api_key_primary_val, request_id):\n",
    "        self._host = host\n",
    "        self._api_key = api_key\n",
    "        self._api_key_primary_val = api_key_primary_val\n",
    "        self._request_id = request_id\n",
    " \n",
    "    def execute(self, completion_request):\n",
    "        headers = {\n",
    "            \"X-NCP-CLOVASTUDIO-API-KEY\": self._api_key,\n",
    "            \"X-NCP-APIGW-API-KEY\": self._api_key_primary_val,\n",
    "            \"X-NCP-CLOVASTUDIO-REQUEST-ID\": self._request_id,\n",
    "            \"Content-Type\": \"application/json; charset=utf-8\",\n",
    "            \"Accept\": \"text/event-stream\"\n",
    "        }\n",
    " \n",
    "        response = requests.post(\n",
    "            self._host + \"/testapp/v1/tasks/iqskxgi0/chat-completions\", # 본인 튜닝 API 요청 url 입력 hcx-3 를 사용해도 무방. 현재 luffy_test 사용중\n",
    "            headers=headers,\n",
    "            json=completion_request,\n",
    "            stream=True\n",
    "        )\n",
    " \n",
    "        # 스트림에서 마지막 'data:' 라인을 찾기 위한 로직\n",
    "        last_data_content = \"\"\n",
    " \n",
    "        for line in response.iter_lines():\n",
    "            if line:\n",
    "                decoded_line = line.decode(\"utf-8\")\n",
    "                if '\"data\":\"[DONE]\"' in decoded_line:\n",
    "                    break\n",
    "                if decoded_line.startswith(\"data:\"):\n",
    "                    last_data_content = json.loads(decoded_line[5:])[\"message\"][\"content\"]\n",
    " \n",
    "        return last_data_content\n",
    "    "
   ]
  },
  {
   "cell_type": "code",
   "execution_count": 51,
   "metadata": {},
   "outputs": [],
   "source": [
    "executor = CompletionExecutor(\n",
    "    host=\"https://clovastudio.stream.ntruss.com\",\n",
    "    api_key='your_api_key', #위에서 생성한 API 키 입력\n",
    "    api_key_primary_val='your_api_key_primary_val',\n",
    "    request_id='e6024b27-4d58-4ae4-9b75-e8d268c044f8'\n",
    "    )"
   ]
  },
  {
   "cell_type": "code",
   "execution_count": 69,
   "metadata": {},
   "outputs": [],
   "source": [
    "sys_prompt = '''\n",
    "당신은 데이터셋을 만들어야 합니다. 해적왕 루피 처럼 자신감 넘치고 패기 있게 대답을 해야합니다. \n",
    "데이터 예시)\n",
    "질문 : 넌 누구야? 답변 : 내이름은 루피 해적왕이지. 난 고무고무인간이야!!\n",
    "질문 : 너의 동료는 누가 있어? 답변 : 동료가 있어!!!! 조로오!! 나미!!! 우솝!! 상디이!! 쵸파!! 로빈!! 프랑키!! 브룩!!! 나한테는··· 동료가 있어!\n",
    "질문 : 너의 목표는 뭐야? 답변 : 내 목표는 원피스를 얻는거야. 그리고 나는 해적왕이 될거야!!\n",
    "---\n",
    "반드시 데이터를 데이터 예시처럼 생성해야 합니다.\n",
    "'''"
   ]
  },
  {
   "cell_type": "code",
   "execution_count": 70,
   "metadata": {},
   "outputs": [],
   "source": [
    "\n",
    "def get_response_data(user_query, sys_prompt):\n",
    "\n",
    "    preset_text = [{\"role\":\"system\",\"content\":sys_prompt}, #지시사항\n",
    "                   {\"role\":\"user\",\"content\":user_query},]\n",
    "\n",
    "    request_data = {\n",
    "        \"messages\": preset_text,\n",
    "        \"topP\": 0.6,\n",
    "        \"topK\": 0,\n",
    "        \"maxTokens\": 1024,\n",
    "        \"temperature\": 0.5,\n",
    "        \"repeatPenalty\": 1.2,\n",
    "        \"stopBefore\": [],\n",
    "        \"includeAiFilters\": False\n",
    "    }\n",
    "\n",
    "    executor = CompletionExecutor(\n",
    "        host=\"https://clovastudio.stream.ntruss.com\",\n",
    "        api_key='NTA0MjU2MWZlZTcxNDJiY6yyY6Iahpvy/4bDhr2mfucbZv7a0mH3ZmXd45WiAT5+',\n",
    "        api_key_primary_val='J300G5CdzwUakQQHTMBDjs7GP7buywJcqSOLGP47',\n",
    "        request_id='e6024b27-4d58-4ae4-9b75-e8d268c044f8'\n",
    "    )\n",
    "\n",
    "    response_data = executor.execute(request_data)\n",
    "    return response_data"
   ]
  },
  {
   "cell_type": "code",
   "execution_count": 71,
   "metadata": {},
   "outputs": [],
   "source": [
    "user_query = '''\n",
    "질문 : {data_question} \\n 답변 : {data_answer} \\n 데이터 셋 을 생성하세요.\n",
    "\n",
    "'''.format(data_question = '박병우는 어떤 포지션으로 농구를 하고 있어?' , data_answer = '박병우는 1989년생으로 대한민국의 농구 선수이며, 현재 활동 중입니다. 그의 포지션은 가드이고, 주특기는 3점슛입니다. 2011-2012년 프로농구 신인드래프트에서 1라운드 8순위로 서울 삼성 썬더스에 지명되었습니다. 그러나 2013년 10월, 원주 동부 프로미와 함께 임대트레이드를 통해 원주 동부 프로미로 이적했습니다. 그러나 2015년에 불법 스포츠 토토에 관여하여 출전 정지 처분을 받았고, KBL은 22경기 출전정지, 425만원의 제재금, 120시간의 사회 봉사 징계를 내렸습니다.')"
   ]
  },
  {
   "cell_type": "code",
   "execution_count": 72,
   "metadata": {},
   "outputs": [
    {
     "data": {
      "text/plain": [
       "'\\n질문 : 박병우는 어떤 포지션으로 농구를 하고 있어? \\n 답변 : 박병우는 1989년생으로 대한민국의 농구 선수이며, 현재 활동 중입니다. 그의 포지션은 가드이고, 주특기는 3점슛입니다. 2011-2012년 프로농구 신인드래프트에서 1라운드 8순위로 서울 삼성 썬더스에 지명되었습니다. 그러나 2013년 10월, 원주 동부 프로미와 함께 임대트레이드를 통해 원주 동부 프로미로 이적했습니다. 그러나 2015년에 불법 스포츠 토토에 관여하여 출전 정지 처분을 받았고, KBL은 22경기 출전정지, 425만원의 제재금, 120시간의 사회 봉사 징계를 내렸습니다. \\n 데이터 셋 을 생성하세요.\\n\\n'"
      ]
     },
     "execution_count": 72,
     "metadata": {},
     "output_type": "execute_result"
    }
   ],
   "source": [
    "user_query"
   ]
  },
  {
   "cell_type": "code",
   "execution_count": 74,
   "metadata": {},
   "outputs": [],
   "source": [
    "response_data = get_response_data(user_query,sys_prompt)"
   ]
  },
  {
   "cell_type": "code",
   "execution_count": 76,
   "metadata": {},
   "outputs": [
    {
     "name": "stdout",
     "output_type": "stream",
     "text": [
      "질문 : 박병우는 어떤 포지션으로 농구를 하고 있어?\n",
      "답변 : 나는 박병우야. 농구 선수이고, 포지션은 가드야. 주특기는 3점슛이지.\n",
      "질문 : 너는 어떤 팀에 소속되어 있어?\n",
      "답변 : 나는 원주 동부 프로미에 소속되어 있어.\n",
      "질문 : 너는 어떤 일로 징계를 받은 적이 있어?\n",
      "답변 : 나는 불법 스포츠 토토에 관여해서 징계를 받은 적이 있어.\n"
     ]
    }
   ],
   "source": [
    "for line in response_data.split('\\n'):\n",
    "    print(line)"
   ]
  },
  {
   "cell_type": "code",
   "execution_count": null,
   "metadata": {},
   "outputs": [],
   "source": []
  }
 ],
 "metadata": {
  "kernelspec": {
   "display_name": "kdb",
   "language": "python",
   "name": "python3"
  },
  "language_info": {
   "codemirror_mode": {
    "name": "ipython",
    "version": 3
   },
   "file_extension": ".py",
   "mimetype": "text/x-python",
   "name": "python",
   "nbconvert_exporter": "python",
   "pygments_lexer": "ipython3",
   "version": "3.11.8"
  }
 },
 "nbformat": 4,
 "nbformat_minor": 2
}
